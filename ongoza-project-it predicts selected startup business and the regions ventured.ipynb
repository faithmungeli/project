{
 "cells": [
  {
   "cell_type": "markdown",
   "metadata": {},
   "source": [
    "# PROJECT TITLE:ONGOZA DATASET\n",
    "The provided ongoza data is to develop a model that can predictstartup business in different variables, \n",
    "and then interpret the results to find the variables that are most predictive of the variables.\n",
    "This is a supervised, regression machine learning task but to be precise have used decision tree in training my model because i wanted the model to learn to map the features(also known as the explanatory variables) to the target.\n",
    "\n",
    "### THE MACHINE LEARNING WORKFLOW\n",
    "\n",
    "Below is the general outline of the machine learning pipeline to structure my project;-\n",
    "    1.Data cleaning and formatting.\n",
    "    2.Exploratory data analysis.\n",
    "    3.Feature engineering and selection'\n",
    "    4.Performance metric & tuning on the model to optimize it for the problem its solving.\n",
    "    6.Evaluate the model on the testing set\n",
    "    7.Deployment of the model.\n"
   ]
  },
  {
   "cell_type": "markdown",
   "metadata": {},
   "source": [
    "### Imports\n",
    "We will use the standard data science and machine learning libraries: \n",
    "numpy, pandas, and scikit-learn. We also use matplotlib and seaborn for visualization."
   ]
  },
  {
   "cell_type": "code",
   "execution_count": 48,
   "metadata": {},
   "outputs": [],
   "source": [
    "# Data Preprocessing \n",
    "import numpy as np\n",
    "import matplotlib.pyplot as plt\n",
    "import pandas as pd"
   ]
  },
  {
   "cell_type": "markdown",
   "metadata": {},
   "source": [
    "### Data Cleaning and Formatting\n",
    "Load in the Data and Examine"
   ]
  },
  {
   "cell_type": "markdown",
   "metadata": {},
   "source": [
    "We will be loading our data into a pandas dataframe, one of the most useful data structures for data science. Think of it as a spreadsheet within Python that we can easily manipulate, clean, and visualize."
   ]
  },
  {
   "cell_type": "code",
   "execution_count": 49,
   "metadata": {},
   "outputs": [],
   "source": [
    "# Import the dataset\n",
    "dataset = pd.read_csv('ongoza-data.csv')"
   ]
  },
  {
   "cell_type": "markdown",
   "metadata": {},
   "source": [
    "# Data Types and Missing Values\n",
    "\n",
    "The (dataframe.info) method is a quick way to assess the data \n",
    "by displaying the data types of each column and the number of non-missing values"
   ]
  },
  {
   "cell_type": "code",
   "execution_count": 50,
   "metadata": {},
   "outputs": [
    {
     "name": "stdout",
     "output_type": "stream",
     "text": [
      "<class 'pandas.core.frame.DataFrame'>\n",
      "RangeIndex: 1856 entries, 0 to 1855\n",
      "Data columns (total 38 columns):\n",
      "application_year             1856 non-null int64\n",
      "selected                     1034 non-null float64\n",
      "showup                       1021 non-null float64\n",
      "finished                     1828 non-null float64\n",
      "info_venture_country         1856 non-null object\n",
      "info_venture_country_hq      1856 non-null object\n",
      "venture region               1856 non-null object\n",
      "info_has_website             1856 non-null int64\n",
      "info_founding_year           1848 non-null float64\n",
      "info_legal_status            1856 non-null object\n",
      "info_sector                  1842 non-null object\n",
      "info_financial_goals         1856 non-null object\n",
      "fins_revenues_m1             1856 non-null float64\n",
      "fins_revenues_sincefound     1856 non-null float64\n",
      "fins_profit_m1               1793 non-null object\n",
      "fins_ft_employees_m1         1856 non-null int64\n",
      "fins_pt_employees_m1         1856 non-null int64\n",
      "found_name1_present          1855 non-null float64\n",
      "found_name2_present          1855 non-null float64\n",
      "found_name3_present          1855 non-null float64\n",
      "found_additional_cnt         1705 non-null float64\n",
      "found_name1_age              1815 non-null float64\n",
      "found_name2_age              1469 non-null float64\n",
      "found_name3_age              845 non-null float64\n",
      "Average Team Age             1815 non-null float64\n",
      "Average Team Age Grouping    1815 non-null object\n",
      "found_name1_gender           1832 non-null object\n",
      "found_name2_gender           1498 non-null object\n",
      "found_name3_gender           886 non-null object\n",
      "found_name1_born             1829 non-null object\n",
      "found_name2_born             1477 non-null object\n",
      "found_name3_born             854 non-null object\n",
      "found_name1_resides          1758 non-null object\n",
      "found_name2_resides          1421 non-null object\n",
      "found_name3_resides          822 non-null object\n",
      "found_name1_education        1651 non-null object\n",
      "found_name2_education        1362 non-null object\n",
      "found_name3_education        818 non-null object\n",
      "dtypes: float64(14), int64(4), object(20)\n",
      "memory usage: 551.1+ KB\n"
     ]
    }
   ],
   "source": [
    "# Explore the dataset\n",
    "dataset.info()"
   ]
  },
  {
   "cell_type": "code",
   "execution_count": 51,
   "metadata": {},
   "outputs": [
    {
     "data": {
      "text/html": [
       "<div>\n",
       "<style scoped>\n",
       "    .dataframe tbody tr th:only-of-type {\n",
       "        vertical-align: middle;\n",
       "    }\n",
       "\n",
       "    .dataframe tbody tr th {\n",
       "        vertical-align: top;\n",
       "    }\n",
       "\n",
       "    .dataframe thead th {\n",
       "        text-align: right;\n",
       "    }\n",
       "</style>\n",
       "<table border=\"1\" class=\"dataframe\">\n",
       "  <thead>\n",
       "    <tr style=\"text-align: right;\">\n",
       "      <th></th>\n",
       "      <th>application_year</th>\n",
       "      <th>selected</th>\n",
       "      <th>showup</th>\n",
       "      <th>finished</th>\n",
       "      <th>info_has_website</th>\n",
       "      <th>info_founding_year</th>\n",
       "      <th>fins_revenues_m1</th>\n",
       "      <th>fins_revenues_sincefound</th>\n",
       "      <th>fins_ft_employees_m1</th>\n",
       "      <th>fins_pt_employees_m1</th>\n",
       "      <th>found_name1_present</th>\n",
       "      <th>found_name2_present</th>\n",
       "      <th>found_name3_present</th>\n",
       "      <th>found_additional_cnt</th>\n",
       "      <th>found_name1_age</th>\n",
       "      <th>found_name2_age</th>\n",
       "      <th>found_name3_age</th>\n",
       "      <th>Average Team Age</th>\n",
       "    </tr>\n",
       "  </thead>\n",
       "  <tbody>\n",
       "    <tr>\n",
       "      <th>count</th>\n",
       "      <td>1856.000000</td>\n",
       "      <td>1034.000000</td>\n",
       "      <td>1021.000000</td>\n",
       "      <td>1828.000000</td>\n",
       "      <td>1856.000000</td>\n",
       "      <td>1848.000000</td>\n",
       "      <td>1.856000e+03</td>\n",
       "      <td>1.856000e+03</td>\n",
       "      <td>1856.000000</td>\n",
       "      <td>1856.000000</td>\n",
       "      <td>1855.000000</td>\n",
       "      <td>1855.000000</td>\n",
       "      <td>1855.000000</td>\n",
       "      <td>1705.000000</td>\n",
       "      <td>1815.000000</td>\n",
       "      <td>1469.000000</td>\n",
       "      <td>845.000000</td>\n",
       "      <td>1815.000000</td>\n",
       "    </tr>\n",
       "    <tr>\n",
       "      <th>mean</th>\n",
       "      <td>2015.399784</td>\n",
       "      <td>0.197292</td>\n",
       "      <td>0.180215</td>\n",
       "      <td>0.237418</td>\n",
       "      <td>0.714978</td>\n",
       "      <td>2011.885823</td>\n",
       "      <td>1.475077e+05</td>\n",
       "      <td>2.157293e+06</td>\n",
       "      <td>7.574353</td>\n",
       "      <td>6.404634</td>\n",
       "      <td>0.997844</td>\n",
       "      <td>0.809704</td>\n",
       "      <td>0.469003</td>\n",
       "      <td>1.029912</td>\n",
       "      <td>35.689807</td>\n",
       "      <td>36.042886</td>\n",
       "      <td>35.489941</td>\n",
       "      <td>35.862534</td>\n",
       "    </tr>\n",
       "    <tr>\n",
       "      <th>std</th>\n",
       "      <td>0.757126</td>\n",
       "      <td>0.398147</td>\n",
       "      <td>0.384555</td>\n",
       "      <td>0.425617</td>\n",
       "      <td>0.451546</td>\n",
       "      <td>4.086299</td>\n",
       "      <td>7.236814e+05</td>\n",
       "      <td>4.414106e+07</td>\n",
       "      <td>19.228429</td>\n",
       "      <td>24.976270</td>\n",
       "      <td>0.046399</td>\n",
       "      <td>0.392641</td>\n",
       "      <td>0.499173</td>\n",
       "      <td>5.029577</td>\n",
       "      <td>9.869444</td>\n",
       "      <td>11.505664</td>\n",
       "      <td>11.997293</td>\n",
       "      <td>8.934388</td>\n",
       "    </tr>\n",
       "    <tr>\n",
       "      <th>min</th>\n",
       "      <td>2014.000000</td>\n",
       "      <td>0.000000</td>\n",
       "      <td>0.000000</td>\n",
       "      <td>0.000000</td>\n",
       "      <td>0.000000</td>\n",
       "      <td>1965.000000</td>\n",
       "      <td>1.000000e-01</td>\n",
       "      <td>8.600000e-01</td>\n",
       "      <td>1.000000</td>\n",
       "      <td>0.000000</td>\n",
       "      <td>0.000000</td>\n",
       "      <td>0.000000</td>\n",
       "      <td>0.000000</td>\n",
       "      <td>-3.000000</td>\n",
       "      <td>1.000000</td>\n",
       "      <td>1.000000</td>\n",
       "      <td>1.000000</td>\n",
       "      <td>19.000000</td>\n",
       "    </tr>\n",
       "    <tr>\n",
       "      <th>25%</th>\n",
       "      <td>2015.000000</td>\n",
       "      <td>0.000000</td>\n",
       "      <td>0.000000</td>\n",
       "      <td>0.000000</td>\n",
       "      <td>0.000000</td>\n",
       "      <td>2011.000000</td>\n",
       "      <td>4.000000e+03</td>\n",
       "      <td>7.000000e+03</td>\n",
       "      <td>2.000000</td>\n",
       "      <td>0.000000</td>\n",
       "      <td>1.000000</td>\n",
       "      <td>1.000000</td>\n",
       "      <td>0.000000</td>\n",
       "      <td>0.000000</td>\n",
       "      <td>29.000000</td>\n",
       "      <td>28.000000</td>\n",
       "      <td>27.000000</td>\n",
       "      <td>29.333333</td>\n",
       "    </tr>\n",
       "    <tr>\n",
       "      <th>50%</th>\n",
       "      <td>2016.000000</td>\n",
       "      <td>0.000000</td>\n",
       "      <td>0.000000</td>\n",
       "      <td>0.000000</td>\n",
       "      <td>1.000000</td>\n",
       "      <td>2013.000000</td>\n",
       "      <td>1.740000e+04</td>\n",
       "      <td>4.000000e+04</td>\n",
       "      <td>4.000000</td>\n",
       "      <td>2.000000</td>\n",
       "      <td>1.000000</td>\n",
       "      <td>1.000000</td>\n",
       "      <td>0.000000</td>\n",
       "      <td>0.000000</td>\n",
       "      <td>33.000000</td>\n",
       "      <td>33.000000</td>\n",
       "      <td>32.000000</td>\n",
       "      <td>34.000000</td>\n",
       "    </tr>\n",
       "    <tr>\n",
       "      <th>75%</th>\n",
       "      <td>2016.000000</td>\n",
       "      <td>0.000000</td>\n",
       "      <td>0.000000</td>\n",
       "      <td>0.000000</td>\n",
       "      <td>1.000000</td>\n",
       "      <td>2014.000000</td>\n",
       "      <td>7.468725e+04</td>\n",
       "      <td>1.913366e+05</td>\n",
       "      <td>7.000000</td>\n",
       "      <td>5.000000</td>\n",
       "      <td>1.000000</td>\n",
       "      <td>1.000000</td>\n",
       "      <td>1.000000</td>\n",
       "      <td>1.000000</td>\n",
       "      <td>40.000000</td>\n",
       "      <td>42.000000</td>\n",
       "      <td>41.000000</td>\n",
       "      <td>41.333333</td>\n",
       "    </tr>\n",
       "    <tr>\n",
       "      <th>max</th>\n",
       "      <td>2016.000000</td>\n",
       "      <td>1.000000</td>\n",
       "      <td>1.000000</td>\n",
       "      <td>1.000000</td>\n",
       "      <td>1.000000</td>\n",
       "      <td>2016.000000</td>\n",
       "      <td>1.853536e+07</td>\n",
       "      <td>1.659025e+09</td>\n",
       "      <td>400.000000</td>\n",
       "      <td>500.000000</td>\n",
       "      <td>1.000000</td>\n",
       "      <td>1.000000</td>\n",
       "      <td>1.000000</td>\n",
       "      <td>150.000000</td>\n",
       "      <td>85.000000</td>\n",
       "      <td>82.000000</td>\n",
       "      <td>78.000000</td>\n",
       "      <td>85.000000</td>\n",
       "    </tr>\n",
       "  </tbody>\n",
       "</table>\n",
       "</div>"
      ],
      "text/plain": [
       "       application_year     selected       showup     finished  \\\n",
       "count       1856.000000  1034.000000  1021.000000  1828.000000   \n",
       "mean        2015.399784     0.197292     0.180215     0.237418   \n",
       "std            0.757126     0.398147     0.384555     0.425617   \n",
       "min         2014.000000     0.000000     0.000000     0.000000   \n",
       "25%         2015.000000     0.000000     0.000000     0.000000   \n",
       "50%         2016.000000     0.000000     0.000000     0.000000   \n",
       "75%         2016.000000     0.000000     0.000000     0.000000   \n",
       "max         2016.000000     1.000000     1.000000     1.000000   \n",
       "\n",
       "       info_has_website  info_founding_year  fins_revenues_m1  \\\n",
       "count       1856.000000         1848.000000      1.856000e+03   \n",
       "mean           0.714978         2011.885823      1.475077e+05   \n",
       "std            0.451546            4.086299      7.236814e+05   \n",
       "min            0.000000         1965.000000      1.000000e-01   \n",
       "25%            0.000000         2011.000000      4.000000e+03   \n",
       "50%            1.000000         2013.000000      1.740000e+04   \n",
       "75%            1.000000         2014.000000      7.468725e+04   \n",
       "max            1.000000         2016.000000      1.853536e+07   \n",
       "\n",
       "       fins_revenues_sincefound  fins_ft_employees_m1  fins_pt_employees_m1  \\\n",
       "count              1.856000e+03           1856.000000           1856.000000   \n",
       "mean               2.157293e+06              7.574353              6.404634   \n",
       "std                4.414106e+07             19.228429             24.976270   \n",
       "min                8.600000e-01              1.000000              0.000000   \n",
       "25%                7.000000e+03              2.000000              0.000000   \n",
       "50%                4.000000e+04              4.000000              2.000000   \n",
       "75%                1.913366e+05              7.000000              5.000000   \n",
       "max                1.659025e+09            400.000000            500.000000   \n",
       "\n",
       "       found_name1_present  found_name2_present  found_name3_present  \\\n",
       "count          1855.000000          1855.000000          1855.000000   \n",
       "mean              0.997844             0.809704             0.469003   \n",
       "std               0.046399             0.392641             0.499173   \n",
       "min               0.000000             0.000000             0.000000   \n",
       "25%               1.000000             1.000000             0.000000   \n",
       "50%               1.000000             1.000000             0.000000   \n",
       "75%               1.000000             1.000000             1.000000   \n",
       "max               1.000000             1.000000             1.000000   \n",
       "\n",
       "       found_additional_cnt  found_name1_age  found_name2_age  \\\n",
       "count           1705.000000      1815.000000      1469.000000   \n",
       "mean               1.029912        35.689807        36.042886   \n",
       "std                5.029577         9.869444        11.505664   \n",
       "min               -3.000000         1.000000         1.000000   \n",
       "25%                0.000000        29.000000        28.000000   \n",
       "50%                0.000000        33.000000        33.000000   \n",
       "75%                1.000000        40.000000        42.000000   \n",
       "max              150.000000        85.000000        82.000000   \n",
       "\n",
       "       found_name3_age  Average Team Age  \n",
       "count       845.000000       1815.000000  \n",
       "mean         35.489941         35.862534  \n",
       "std          11.997293          8.934388  \n",
       "min           1.000000         19.000000  \n",
       "25%          27.000000         29.333333  \n",
       "50%          32.000000         34.000000  \n",
       "75%          41.000000         41.333333  \n",
       "max          78.000000         85.000000  "
      ]
     },
     "execution_count": 51,
     "metadata": {},
     "output_type": "execute_result"
    }
   ],
   "source": [
    "dataset.describe()"
   ]
  },
  {
   "cell_type": "code",
   "execution_count": 52,
   "metadata": {},
   "outputs": [],
   "source": [
    "# Select variables to work with\n",
    "dataset = dataset.loc[:, ['selected', \n",
    "                          'application_year',\n",
    "                          'showup', \n",
    "                          'finished',\n",
    "                          'venture region',\n",
    "                          'info_has_website',\n",
    "                          'info_founding_year',\n",
    "                          'Average Team Age']]"
   ]
  },
  {
   "cell_type": "code",
   "execution_count": 53,
   "metadata": {},
   "outputs": [],
   "source": [
    "#removing null values based on on the selected columns\n",
    "dataset = dataset[dataset.selected.notna()]"
   ]
  },
  {
   "cell_type": "code",
   "execution_count": 54,
   "metadata": {},
   "outputs": [
    {
     "data": {
      "text/html": [
       "<div>\n",
       "<style scoped>\n",
       "    .dataframe tbody tr th:only-of-type {\n",
       "        vertical-align: middle;\n",
       "    }\n",
       "\n",
       "    .dataframe tbody tr th {\n",
       "        vertical-align: top;\n",
       "    }\n",
       "\n",
       "    .dataframe thead th {\n",
       "        text-align: right;\n",
       "    }\n",
       "</style>\n",
       "<table border=\"1\" class=\"dataframe\">\n",
       "  <thead>\n",
       "    <tr style=\"text-align: right;\">\n",
       "      <th></th>\n",
       "      <th>selected</th>\n",
       "      <th>application_year</th>\n",
       "      <th>showup</th>\n",
       "      <th>finished</th>\n",
       "      <th>venture region</th>\n",
       "      <th>info_has_website</th>\n",
       "      <th>info_founding_year</th>\n",
       "      <th>Average Team Age</th>\n",
       "    </tr>\n",
       "  </thead>\n",
       "  <tbody>\n",
       "    <tr>\n",
       "      <th>0</th>\n",
       "      <td>1.0</td>\n",
       "      <td>2016</td>\n",
       "      <td>1.0</td>\n",
       "      <td>1.0</td>\n",
       "      <td>Sub-Saharan Africa</td>\n",
       "      <td>1</td>\n",
       "      <td>2015.0</td>\n",
       "      <td>19.000000</td>\n",
       "    </tr>\n",
       "    <tr>\n",
       "      <th>3</th>\n",
       "      <td>0.0</td>\n",
       "      <td>2016</td>\n",
       "      <td>NaN</td>\n",
       "      <td>NaN</td>\n",
       "      <td>Latin America &amp; Caribbean</td>\n",
       "      <td>0</td>\n",
       "      <td>2015.0</td>\n",
       "      <td>20.666667</td>\n",
       "    </tr>\n",
       "    <tr>\n",
       "      <th>4</th>\n",
       "      <td>0.0</td>\n",
       "      <td>2016</td>\n",
       "      <td>0.0</td>\n",
       "      <td>0.0</td>\n",
       "      <td>Sub-Saharan Africa</td>\n",
       "      <td>0</td>\n",
       "      <td>2015.0</td>\n",
       "      <td>20.666667</td>\n",
       "    </tr>\n",
       "    <tr>\n",
       "      <th>5</th>\n",
       "      <td>0.0</td>\n",
       "      <td>2016</td>\n",
       "      <td>0.0</td>\n",
       "      <td>0.0</td>\n",
       "      <td>Sub-Saharan Africa</td>\n",
       "      <td>1</td>\n",
       "      <td>2015.0</td>\n",
       "      <td>21.000000</td>\n",
       "    </tr>\n",
       "    <tr>\n",
       "      <th>11</th>\n",
       "      <td>0.0</td>\n",
       "      <td>2016</td>\n",
       "      <td>0.0</td>\n",
       "      <td>0.0</td>\n",
       "      <td>Sub-Saharan Africa</td>\n",
       "      <td>0</td>\n",
       "      <td>2015.0</td>\n",
       "      <td>21.333333</td>\n",
       "    </tr>\n",
       "  </tbody>\n",
       "</table>\n",
       "</div>"
      ],
      "text/plain": [
       "    selected  application_year  showup  finished             venture region  \\\n",
       "0        1.0              2016     1.0       1.0         Sub-Saharan Africa   \n",
       "3        0.0              2016     NaN       NaN  Latin America & Caribbean   \n",
       "4        0.0              2016     0.0       0.0         Sub-Saharan Africa   \n",
       "5        0.0              2016     0.0       0.0         Sub-Saharan Africa   \n",
       "11       0.0              2016     0.0       0.0         Sub-Saharan Africa   \n",
       "\n",
       "    info_has_website  info_founding_year  Average Team Age  \n",
       "0                  1              2015.0         19.000000  \n",
       "3                  0              2015.0         20.666667  \n",
       "4                  0              2015.0         20.666667  \n",
       "5                  1              2015.0         21.000000  \n",
       "11                 0              2015.0         21.333333  "
      ]
     },
     "execution_count": 54,
     "metadata": {},
     "output_type": "execute_result"
    }
   ],
   "source": [
    "dataset.head()"
   ]
  },
  {
   "cell_type": "markdown",
   "metadata": {},
   "source": [
    "# Exploratory Data Analysis\n",
    "is an open-ended process where we make plots \n",
    "and calculate statistics in order to explore our data. The purpose is to to find anomalies, patterns, trends, or relationships. These may be interesting by themselves (for example finding a correlation between two variables)\n",
    "or they can be used to inform modeling decisions such as which features to use. In short, the goal of EDA is to determine what our data can tell us! EDA generally starts out with a high-level overview, and then narrows in to specific parts of the dataset once as we find interesting areas to examine. In our case will focus on target variables i.e selected,finished,showed up for our machine learning model.\n"
   ]
  },
  {
   "cell_type": "code",
   "execution_count": 55,
   "metadata": {},
   "outputs": [],
   "source": [
    "# first is the descriptive analysis"
   ]
  },
  {
   "cell_type": "code",
   "execution_count": 56,
   "metadata": {},
   "outputs": [
    {
     "data": {
      "text/plain": [
       "85.0"
      ]
     },
     "execution_count": 56,
     "metadata": {},
     "output_type": "execute_result"
    }
   ],
   "source": [
    "dataset[\"Average Team Age\"].max()"
   ]
  },
  {
   "cell_type": "code",
   "execution_count": 57,
   "metadata": {},
   "outputs": [
    {
     "data": {
      "text/plain": [
       "19.0"
      ]
     },
     "execution_count": 57,
     "metadata": {},
     "output_type": "execute_result"
    }
   ],
   "source": [
    "dataset[\"Average Team Age\"].min()"
   ]
  },
  {
   "cell_type": "markdown",
   "metadata": {},
   "source": [
    "#### The venture region which had the largest no. of participants in all categories was latin America & caribean"
   ]
  },
  {
   "cell_type": "code",
   "execution_count": 58,
   "metadata": {},
   "outputs": [
    {
     "data": {
      "text/html": [
       "<div>\n",
       "<style scoped>\n",
       "    .dataframe tbody tr th:only-of-type {\n",
       "        vertical-align: middle;\n",
       "    }\n",
       "\n",
       "    .dataframe tbody tr th {\n",
       "        vertical-align: top;\n",
       "    }\n",
       "\n",
       "    .dataframe thead th {\n",
       "        text-align: right;\n",
       "    }\n",
       "</style>\n",
       "<table border=\"1\" class=\"dataframe\">\n",
       "  <thead>\n",
       "    <tr style=\"text-align: right;\">\n",
       "      <th></th>\n",
       "      <th>selected</th>\n",
       "      <th>showup</th>\n",
       "      <th>finished</th>\n",
       "    </tr>\n",
       "    <tr>\n",
       "      <th>venture region</th>\n",
       "      <th></th>\n",
       "      <th></th>\n",
       "      <th></th>\n",
       "    </tr>\n",
       "  </thead>\n",
       "  <tbody>\n",
       "    <tr>\n",
       "      <th>East Asia &amp; Pacific</th>\n",
       "      <td>22</td>\n",
       "      <td>22</td>\n",
       "      <td>22</td>\n",
       "    </tr>\n",
       "    <tr>\n",
       "      <th>Europe &amp; Central Asia</th>\n",
       "      <td>18</td>\n",
       "      <td>18</td>\n",
       "      <td>18</td>\n",
       "    </tr>\n",
       "    <tr>\n",
       "      <th>Latin America &amp; Caribbean</th>\n",
       "      <td>277</td>\n",
       "      <td>266</td>\n",
       "      <td>268</td>\n",
       "    </tr>\n",
       "    <tr>\n",
       "      <th>Middle East &amp; North Africa</th>\n",
       "      <td>1</td>\n",
       "      <td>1</td>\n",
       "      <td>1</td>\n",
       "    </tr>\n",
       "    <tr>\n",
       "      <th>North America</th>\n",
       "      <td>115</td>\n",
       "      <td>114</td>\n",
       "      <td>114</td>\n",
       "    </tr>\n",
       "    <tr>\n",
       "      <th>South Asia</th>\n",
       "      <td>89</td>\n",
       "      <td>88</td>\n",
       "      <td>88</td>\n",
       "    </tr>\n",
       "    <tr>\n",
       "      <th>Sub-Saharan Africa</th>\n",
       "      <td>512</td>\n",
       "      <td>512</td>\n",
       "      <td>512</td>\n",
       "    </tr>\n",
       "  </tbody>\n",
       "</table>\n",
       "</div>"
      ],
      "text/plain": [
       "                            selected  showup  finished\n",
       "venture region                                        \n",
       "East Asia & Pacific               22      22        22\n",
       "Europe & Central Asia             18      18        18\n",
       "Latin America & Caribbean        277     266       268\n",
       "Middle East & North Africa         1       1         1\n",
       "North America                    115     114       114\n",
       "South Asia                        89      88        88\n",
       "Sub-Saharan Africa               512     512       512"
      ]
     },
     "execution_count": 58,
     "metadata": {},
     "output_type": "execute_result"
    }
   ],
   "source": [
    "dataset.groupby(dataset[\"venture region\"])[[\"selected\", \"showup\", \"finished\"]].count()"
   ]
  },
  {
   "cell_type": "code",
   "execution_count": 59,
   "metadata": {},
   "outputs": [
    {
     "data": {
      "text/plain": [
       "<pandas.core.groupby.generic.DataFrameGroupBy object at 0x0000021B63FC48D0>"
      ]
     },
     "execution_count": 59,
     "metadata": {},
     "output_type": "execute_result"
    }
   ],
   "source": [
    "dataset.groupby((dataset)[[\"selected\", \"showup\", \"finished\"]].count())"
   ]
  },
  {
   "cell_type": "markdown",
   "metadata": {},
   "source": [
    "# Data visualization"
   ]
  },
  {
   "cell_type": "code",
   "execution_count": 60,
   "metadata": {},
   "outputs": [],
   "source": [
    "import seaborn as sns\n",
    "import matplotlib as plt\n",
    "sns.set(style=\"darkgrid\")"
   ]
  },
  {
   "cell_type": "code",
   "execution_count": 61,
   "metadata": {},
   "outputs": [
    {
     "data": {
      "text/plain": [
       "<matplotlib.axes._subplots.AxesSubplot at 0x21b63fd3d30>"
      ]
     },
     "execution_count": 61,
     "metadata": {},
     "output_type": "execute_result"
    },
    {
     "data": {
      "image/png": "[encoded data removed]",
      "text/plain": [
       "<Figure size 432x288 with 1 Axes>"
      ]
     },
     "metadata": {},
     "output_type": "display_data"
    }
   ],
   "source": [
    "dataset[\"venture region\"].value_counts().plot(kind=\"barh\")"
   ]
  },
  {
   "cell_type": "markdown",
   "metadata": {},
   "source": [
    "Sub-saharan Africa had the largest number of clients who ventured in the business."
   ]
  },
  {
   "cell_type": "markdown",
   "metadata": {},
   "source": [
    "Categorical data is data that is collected in groups or topics; the number of events in each group is counted numerically.\n",
    "conversion of categorical data to numerical or factor into (o's,1's)"
   ]
  },
  {
   "cell_type": "code",
   "execution_count": 62,
   "metadata": {},
   "outputs": [
    {
     "data": {
      "text/plain": [
       "<matplotlib.axes._subplots.AxesSubplot at 0x21b63fc4470>"
      ]
     },
     "execution_count": 62,
     "metadata": {},
     "output_type": "execute_result"
    },
    {
     "data": {
      "image/png": "[encoded data removed]",
      "text/plain": [
       "<Figure size 432x288 with 1 Axes>"
      ]
     },
     "metadata": {},
     "output_type": "display_data"
    }
   ],
   "source": [
    "sns.countplot(x=\"info_has_website\", data=dataset, palette=\"deep\")"
   ]
  },
  {
   "cell_type": "markdown",
   "metadata": {},
   "source": [
    "The above shows that most of the business who registered had website which indicates they were ready to embrace the new market they ventured in the different region."
   ]
  },
  {
   "cell_type": "code",
   "execution_count": 63,
   "metadata": {},
   "outputs": [
    {
     "data": {
      "text/plain": [
       "<matplotlib.axes._subplots.AxesSubplot at 0x21b6406f160>"
      ]
     },
     "execution_count": 63,
     "metadata": {},
     "output_type": "execute_result"
    },
    {
     "data": {
      "image/png": "[encoded data removed]",
      "text/plain": [
       "<Figure size 432x288 with 1 Axes>"
      ]
     },
     "metadata": {},
     "output_type": "display_data"
    }
   ],
   "source": [
    "sns.countplot(x=\"showup\", data=dataset, palette=\"Accent\")"
   ]
  },
  {
   "cell_type": "markdown",
   "metadata": {},
   "source": [
    "800 showup and 200 showup"
   ]
  },
  {
   "cell_type": "code",
   "execution_count": 64,
   "metadata": {},
   "outputs": [
    {
     "data": {
      "text/plain": [
       "<matplotlib.axes._subplots.AxesSubplot at 0x21b64076eb8>"
      ]
     },
     "execution_count": 64,
     "metadata": {},
     "output_type": "execute_result"
    },
    {
     "data": {
      "image/png": "[encoded data removed]",
      "text/plain": [
       "<Figure size 432x288 with 1 Axes>"
      ]
     },
     "metadata": {},
     "output_type": "display_data"
    }
   ],
   "source": [
    "sns.countplot(x=\"finished\", data=dataset, palette=\"ocean\")"
   ]
  },
  {
   "cell_type": "markdown",
   "metadata": {},
   "source": [
    "the above shows that despite many business venturing in the market not many were able to finish(800) like sustain themselves in the competitive market only (200)."
   ]
  },
  {
   "cell_type": "code",
   "execution_count": 65,
   "metadata": {},
   "outputs": [
    {
     "data": {
      "text/plain": [
       "<matplotlib.axes._subplots.AxesSubplot at 0x21b640655c0>"
      ]
     },
     "execution_count": 65,
     "metadata": {},
     "output_type": "execute_result"
    },
    {
     "data": {
      "image/png": "[encoded data removed]",
      "text/plain": [
       "<Figure size 432x288 with 1 Axes>"
      ]
     },
     "metadata": {},
     "output_type": "display_data"
    }
   ],
   "source": [
    "sns.countplot(x=\"venture region\", data=dataset)"
   ]
  },
  {
   "cell_type": "markdown",
   "metadata": {},
   "source": [
    "the above show the venture region (Sub-Saharan Africa) with the highest count of businesses."
   ]
  },
  {
   "cell_type": "code",
   "execution_count": 66,
   "metadata": {},
   "outputs": [
    {
     "name": "stderr",
     "output_type": "stream",
     "text": [
      "C:\\Users\\faimu\\Anaconda3\\lib\\site-packages\\numpy\\lib\\histograms.py:824: RuntimeWarning: invalid value encountered in greater_equal\n",
      "  keep = (tmp_a >= first_edge)\n",
      "C:\\Users\\faimu\\Anaconda3\\lib\\site-packages\\numpy\\lib\\histograms.py:825: RuntimeWarning: invalid value encountered in less_equal\n",
      "  keep &= (tmp_a <= last_edge)\n"
     ]
    },
    {
     "data": {
      "text/plain": [
       "<seaborn.axisgrid.PairGrid at 0x21b64114f98>"
      ]
     },
     "execution_count": 66,
     "metadata": {},
     "output_type": "execute_result"
    },
    {
     "data": {
      "image/png": "[encoded data removed]",
      "text/plain": [
       "<Figure size 1260x1260 with 56 Axes>"
      ]
     },
     "metadata": {},
     "output_type": "display_data"
    }
   ],
   "source": [
    "sns.pairplot(dataset)"
   ]
  },
  {
   "cell_type": "markdown",
   "metadata": {},
   "source": [
    "The above shows a different correlation between the various target variables "
   ]
  },
  {
   "cell_type": "markdown",
   "metadata": {},
   "source": [
    "# DATA MODELING\n",
    "\n",
    "It is ensuring all strings are converted into numeric then train,test model.\n",
    "It will involve data slicing whereby data is split into train & test set."
   ]
  },
  {
   "cell_type": "code",
   "execution_count": 67,
   "metadata": {},
   "outputs": [],
   "source": [
    "# Matrix of features\n",
    "X = dataset.iloc[:, 1:].values\n",
    "y = dataset.iloc[:, :1].values"
   ]
  },
  {
   "cell_type": "code",
   "execution_count": 68,
   "metadata": {},
   "outputs": [
    {
     "data": {
      "text/plain": [
       "array([[2016, 1.0, 1.0, ..., 1, 2015.0, 19.0],\n",
       "       [2016, nan, nan, ..., 0, 2015.0, 20.66666667],\n",
       "       [2016, 0.0, 0.0, ..., 0, 2015.0, 20.66666667],\n",
       "       ...,\n",
       "       [2016, 0.0, 0.0, ..., 1, 2015.0, nan],\n",
       "       [2016, 0.0, 0.0, ..., 0, 2014.0, nan],\n",
       "       [2016, 0.0, 0.0, ..., 0, 2011.0, nan]], dtype=object)"
      ]
     },
     "execution_count": 68,
     "metadata": {},
     "output_type": "execute_result"
    }
   ],
   "source": [
    "X #predictor variables"
   ]
  },
  {
   "cell_type": "code",
   "execution_count": 69,
   "metadata": {},
   "outputs": [
    {
     "data": {
      "text/plain": [
       "array([[1.],\n",
       "       [0.],\n",
       "       [0.],\n",
       "       ...,\n",
       "       [0.],\n",
       "       [0.],\n",
       "       [0.]])"
      ]
     },
     "execution_count": 69,
     "metadata": {},
     "output_type": "execute_result"
    }
   ],
   "source": [
    "y #outcome variables"
   ]
  },
  {
   "cell_type": "code",
   "execution_count": 70,
   "metadata": {},
   "outputs": [
    {
     "name": "stderr",
     "output_type": "stream",
     "text": [
      "C:\\Users\\faimu\\Anaconda3\\lib\\site-packages\\sklearn\\utils\\deprecation.py:58: DeprecationWarning: Class Imputer is deprecated; Imputer was deprecated in version 0.20 and will be removed in 0.22. Import impute.SimpleImputer from sklearn instead.\n",
      "  warnings.warn(msg, category=DeprecationWarning)\n",
      "C:\\Users\\faimu\\Anaconda3\\lib\\site-packages\\sklearn\\utils\\deprecation.py:58: DeprecationWarning: Class Imputer is deprecated; Imputer was deprecated in version 0.20 and will be removed in 0.22. Import impute.SimpleImputer from sklearn instead.\n",
      "  warnings.warn(msg, category=DeprecationWarning)\n"
     ]
    }
   ],
   "source": [
    "# Taking care of missing data \n",
    "#imputer algorithm which is a better strategy of taking care or discarding missing values in rows & cols.\n",
    "#it supports categorical data represented as string values or pandas categorical when using the 'most frequent'or'constant strategy'\n",
    "#use of feature union or column transformer to add features to the reqular features.\n",
    "#features are parameters used to choose the features for which the mask is constructed.It is by default'missing_only'which returns the imputer mask of the features containing missing values at FIT time.\n",
    "from sklearn.preprocessing import Imputer\n",
    "imputer = Imputer(strategy=\"mean\")#default is mean i.e the average\n",
    "imputer2 = Imputer(strategy='most_frequent')#replaces most of frequent values on the specified column\n",
    "imputer = imputer.fit(X[:,[5,-1]])#\n",
    "imputer2 = imputer2.fit(X[:, [1,2]])\n",
    "X[:, [1,2]] = imputer2.transform(X[:, [1,2]])\n",
    "X[:,[5,-1]] = imputer.transform(X[:,[5,-1]])"
   ]
  },
  {
   "cell_type": "code",
   "execution_count": 71,
   "metadata": {},
   "outputs": [],
   "source": [
    "#Sklearn library will help to build predictive model which contains tools for instance data splitting,pre-processing,\n",
    "#feature selection and also which technique is suitable for the model in my case its decision tree regression.more so,encoding categorical data\n",
    "from sklearn.preprocessing import LabelEncoder #categorical data\n",
    "labelencoder = LabelEncoder()\n",
    "X[:, 3] = labelencoder.fit_transform(X[:, 3])"
   ]
  },
  {
   "cell_type": "markdown",
   "metadata": {},
   "source": [
    "# DATA TRAINING & TESTING"
   ]
  },
  {
   "cell_type": "code",
   "execution_count": 72,
   "metadata": {},
   "outputs": [],
   "source": [
    "# Splitting the dataset into the training set and test set\n",
    "from sklearn.model_selection import train_test_split\n",
    "X_train, X_test, y_train, y_test = train_test_split(X, y, test_size = 0.2)#20% means test set will be used testing the whole dataset,\n",
    "#100-20=80%  which is the entire dataset remaining to be trained."
   ]
  },
  {
   "cell_type": "code",
   "execution_count": 73,
   "metadata": {},
   "outputs": [
    {
     "data": {
      "text/plain": [
       "DecisionTreeClassifier(class_weight=None, criterion='entropy', max_depth=None,\n",
       "            max_features=None, max_leaf_nodes=None,\n",
       "            min_impurity_decrease=0.0, min_impurity_split=None,\n",
       "            min_samples_leaf=1, min_samples_split=2,\n",
       "            min_weight_fraction_leaf=0.0, presort=False, random_state=None,\n",
       "            splitter='best')"
      ]
     },
     "execution_count": 73,
     "metadata": {},
     "output_type": "execute_result"
    }
   ],
   "source": [
    "#Decision Tree Regression which uses the decision tree classifier\n",
    "from sklearn.tree import DecisionTreeClassifier\n",
    "classifier = DecisionTreeClassifier(criterion= 'entropy')\n",
    "classifier.fit(X, y)"
   ]
  },
  {
   "cell_type": "code",
   "execution_count": 74,
   "metadata": {},
   "outputs": [],
   "source": [
    "predictions = classifier.predict(X_test)"
   ]
  },
  {
   "cell_type": "markdown",
   "metadata": {},
   "source": [
    "# MODEL EVALUATION"
   ]
  },
  {
   "cell_type": "code",
   "execution_count": 75,
   "metadata": {},
   "outputs": [
    {
     "name": "stdout",
     "output_type": "stream",
     "text": [
      "MAE: 0.00966183574879227\n",
      "MSE: 0.00966183574879227\n",
      "RMSE: 0.09829463743659808\n"
     ]
    }
   ],
   "source": [
    "# Model evaluatuion\n",
    "#Sklearn here is used for acccuracy_score_algorithms\n",
    "from sklearn import metrics\n",
    "print('MAE:', metrics.mean_absolute_error(y_test, predictions))\n",
    "print('MSE:', metrics.mean_squared_error(y_test, predictions))\n",
    "print('RMSE:', np.sqrt(metrics.mean_squared_error(y_test, predictions)))"
   ]
  },
  {
   "cell_type": "code",
   "execution_count": 76,
   "metadata": {},
   "outputs": [
    {
     "data": {
      "text/plain": [
       "['model.pkl']"
      ]
     },
     "execution_count": 76,
     "metadata": {},
     "output_type": "execute_result"
    }
   ],
   "source": [
    "#Start model pickle to wrap the model into one file\n",
    "import joblib\n",
    "joblib.dump(classifier, 'model.pkl')"
   ]
  },
  {
   "cell_type": "markdown",
   "metadata": {},
   "source": [
    "# MODEL DEPLOYMENT\n",
    "The model depolyment is by use of flask and postman for emulation or testing the API which is a file for python. "
   ]
  },
  {
   "cell_type": "code",
   "execution_count": 77,
   "metadata": {},
   "outputs": [],
   "source": [
    "import pandas as pd\n",
    "from flask import Flask, request\n",
    "import joblib\n",
    "with open('model.pkl', 'rb') as model_file:\n",
    "    model = joblib.load(model_file)"
   ]
  },
  {
   "cell_type": "code",
   "execution_count": 78,
   "metadata": {},
   "outputs": [
    {
     "name": "stdout",
     "output_type": "stream",
     "text": [
      " * Serving Flask app \"__main__\" (lazy loading)\n",
      " * Environment: production\n",
      "   WARNING: Do not use the development server in a production environment.\n",
      "   Use a production WSGI server instead.\n",
      " * Debug mode: on\n"
     ]
    },
    {
     "name": "stderr",
     "output_type": "stream",
     "text": [
      " * Restarting with stat\n"
     ]
    },
    {
     "ename": "SystemExit",
     "evalue": "1",
     "output_type": "error",
     "traceback": [
      "An exception has occurred, use %tb to see the full traceback.\n",
      "\u001b[1;31mSystemExit\u001b[0m\u001b[1;31m:\u001b[0m 1\n"
     ]
    },
    {
     "name": "stderr",
     "output_type": "stream",
     "text": [
      "C:\\Users\\faimu\\Anaconda3\\lib\\site-packages\\IPython\\core\\interactiveshell.py:3304: UserWarning: To exit: use 'exit', 'quit', or Ctrl-D.\n",
      "  warn(\"To exit: use 'exit', 'quit', or Ctrl-D.\", stacklevel=1)\n"
     ]
    }
   ],
   "source": [
    "app = Flask(__name__)\n",
    "\n",
    "@app.route('/predict', methods=['POST'])\n",
    "def predict():\n",
    "    application_year = request.form['application_year']\n",
    "    showup = request.form['showup']\n",
    "    finished = request.form['finished']\n",
    "    venture_region = request.form['venture_region']\n",
    "    website = request.form['website']\n",
    "    founding_year = request.form['founding_year']\n",
    "    age = request.form['age']\n",
    "\n",
    "    prediction = model.predict(pd.DataFrame([[application_year, showup, finished, venture_region, website, founding_year, age]]))\n",
    "    return str(prediction)\n",
    "\n",
    "if __name__=='__main__':\n",
    "    app.run(port=3000, debug=True)"
   ]
  },
  {
   "cell_type": "markdown",
   "metadata": {},
   "source": [
    "for the model to run first dir-list directories\n",
    "cd-change directions\n",
    "dir-cd-documents\n",
    "cd-desktop/-python/PROJ\n",
    "python api.py.py then give the route port and copy to postman then get all the parameters and run to get the final prediction"
   ]
  },
  {
   "cell_type": "code",
   "execution_count": null,
   "metadata": {},
   "outputs": [],
   "source": []
  },
  {
   "cell_type": "code",
   "execution_count": null,
   "metadata": {},
   "outputs": [],
   "source": []
  }
 ],
 "metadata": {
  "kernelspec": {
   "display_name": "Python 3",
   "language": "python",
   "name": "python3"
  },
  "language_info": {
   "codemirror_mode": {
    "name": "ipython",
    "version": 3
   },
   "file_extension": ".py",
   "mimetype": "text/x-python",
   "name": "python",
   "nbconvert_exporter": "python",
   "pygments_lexer": "ipython3",
   "version": "3.7.3"
  }
 },
 "nbformat": 4,
 "nbformat_minor": 2
}
